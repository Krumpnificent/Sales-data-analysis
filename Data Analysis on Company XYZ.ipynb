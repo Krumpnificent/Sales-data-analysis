{
 "cells": [
  {
   "cell_type": "code",
   "execution_count": 1,
   "metadata": {},
   "outputs": [],
   "source": [
    "import pandas as pd\n",
    "import datetime as dt\n",
    "import numpy as np\n",
    "import seaborn as sns\n",
    "import matplotlib.pyplot as plt\n",
    "%matplotlib inline     \n",
    "plt.style.use('ggplot')     \n",
    "import warnings\n",
    "warnings.filterwarnings('ignore')    "
   ]
  },
  {
   "cell_type": "code",
   "execution_count": 2,
   "metadata": {},
   "outputs": [],
   "source": [
    "#Reading csv files from all the supermarket branches\n",
    "market_list1 = pd.read_csv('Abuja_Branch.csv')\n",
    "market_list2 = pd.read_csv('Lagos_Branch.csv')\n",
    "market_list3 = pd.read_csv('Port_Harcourt_Branch.csv')"
   ]
  },
  {
   "cell_type": "code",
   "execution_count": 3,
   "metadata": {},
   "outputs": [
    {
     "data": {
      "text/html": [
       "<div>\n",
       "<style scoped>\n",
       "    .dataframe tbody tr th:only-of-type {\n",
       "        vertical-align: middle;\n",
       "    }\n",
       "\n",
       "    .dataframe tbody tr th {\n",
       "        vertical-align: top;\n",
       "    }\n",
       "\n",
       "    .dataframe thead th {\n",
       "        text-align: right;\n",
       "    }\n",
       "</style>\n",
       "<table border=\"1\" class=\"dataframe\">\n",
       "  <thead>\n",
       "    <tr style=\"text-align: right;\">\n",
       "      <th></th>\n",
       "      <th>Invoice ID</th>\n",
       "      <th>Branch</th>\n",
       "      <th>City</th>\n",
       "      <th>Customer type</th>\n",
       "      <th>Gender</th>\n",
       "      <th>Product line</th>\n",
       "      <th>Unit price</th>\n",
       "      <th>Quantity</th>\n",
       "      <th>Tax 5%</th>\n",
       "      <th>Total</th>\n",
       "      <th>Date</th>\n",
       "      <th>Time</th>\n",
       "      <th>Payment</th>\n",
       "      <th>cogs</th>\n",
       "      <th>gross margin percentage</th>\n",
       "      <th>gross income</th>\n",
       "      <th>Rating</th>\n",
       "    </tr>\n",
       "  </thead>\n",
       "  <tbody>\n",
       "    <tr>\n",
       "      <th>0</th>\n",
       "      <td>692-92-5582</td>\n",
       "      <td>B</td>\n",
       "      <td>Abuja</td>\n",
       "      <td>Member</td>\n",
       "      <td>Female</td>\n",
       "      <td>Food and beverages</td>\n",
       "      <td>19742.4</td>\n",
       "      <td>3</td>\n",
       "      <td>2961.36</td>\n",
       "      <td>62188.56</td>\n",
       "      <td>2/20/2019</td>\n",
       "      <td>13:27</td>\n",
       "      <td>Card</td>\n",
       "      <td>59227.2</td>\n",
       "      <td>4.761905</td>\n",
       "      <td>2961.36</td>\n",
       "      <td>5.9</td>\n",
       "    </tr>\n",
       "    <tr>\n",
       "      <th>1</th>\n",
       "      <td>351-62-0822</td>\n",
       "      <td>B</td>\n",
       "      <td>Abuja</td>\n",
       "      <td>Member</td>\n",
       "      <td>Female</td>\n",
       "      <td>Fashion accessories</td>\n",
       "      <td>5212.8</td>\n",
       "      <td>4</td>\n",
       "      <td>1042.56</td>\n",
       "      <td>21893.76</td>\n",
       "      <td>2/6/2019</td>\n",
       "      <td>18:07</td>\n",
       "      <td>Epay</td>\n",
       "      <td>20851.2</td>\n",
       "      <td>4.761905</td>\n",
       "      <td>1042.56</td>\n",
       "      <td>4.5</td>\n",
       "    </tr>\n",
       "    <tr>\n",
       "      <th>2</th>\n",
       "      <td>529-56-3974</td>\n",
       "      <td>B</td>\n",
       "      <td>Abuja</td>\n",
       "      <td>Member</td>\n",
       "      <td>Male</td>\n",
       "      <td>Electronic accessories</td>\n",
       "      <td>9183.6</td>\n",
       "      <td>4</td>\n",
       "      <td>1836.72</td>\n",
       "      <td>38571.12</td>\n",
       "      <td>3/9/2019</td>\n",
       "      <td>17:03</td>\n",
       "      <td>Cash</td>\n",
       "      <td>36734.4</td>\n",
       "      <td>4.761905</td>\n",
       "      <td>1836.72</td>\n",
       "      <td>6.8</td>\n",
       "    </tr>\n",
       "    <tr>\n",
       "      <th>3</th>\n",
       "      <td>299-46-1805</td>\n",
       "      <td>B</td>\n",
       "      <td>Abuja</td>\n",
       "      <td>Member</td>\n",
       "      <td>Female</td>\n",
       "      <td>Sports and travel</td>\n",
       "      <td>33739.2</td>\n",
       "      <td>6</td>\n",
       "      <td>10121.76</td>\n",
       "      <td>212556.96</td>\n",
       "      <td>1/15/2019</td>\n",
       "      <td>16:19</td>\n",
       "      <td>Cash</td>\n",
       "      <td>202435.2</td>\n",
       "      <td>4.761905</td>\n",
       "      <td>10121.76</td>\n",
       "      <td>4.5</td>\n",
       "    </tr>\n",
       "    <tr>\n",
       "      <th>4</th>\n",
       "      <td>319-50-3348</td>\n",
       "      <td>B</td>\n",
       "      <td>Abuja</td>\n",
       "      <td>Normal</td>\n",
       "      <td>Female</td>\n",
       "      <td>Home and lifestyle</td>\n",
       "      <td>14508.0</td>\n",
       "      <td>2</td>\n",
       "      <td>1450.80</td>\n",
       "      <td>30466.80</td>\n",
       "      <td>3/11/2019</td>\n",
       "      <td>15:30</td>\n",
       "      <td>Epay</td>\n",
       "      <td>29016.0</td>\n",
       "      <td>4.761905</td>\n",
       "      <td>1450.80</td>\n",
       "      <td>4.4</td>\n",
       "    </tr>\n",
       "  </tbody>\n",
       "</table>\n",
       "</div>"
      ],
      "text/plain": [
       "    Invoice ID Branch   City Customer type  Gender            Product line  \\\n",
       "0  692-92-5582      B  Abuja        Member  Female      Food and beverages   \n",
       "1  351-62-0822      B  Abuja        Member  Female     Fashion accessories   \n",
       "2  529-56-3974      B  Abuja        Member    Male  Electronic accessories   \n",
       "3  299-46-1805      B  Abuja        Member  Female       Sports and travel   \n",
       "4  319-50-3348      B  Abuja        Normal  Female      Home and lifestyle   \n",
       "\n",
       "   Unit price  Quantity    Tax 5%      Total       Date   Time Payment  \\\n",
       "0     19742.4         3   2961.36   62188.56  2/20/2019  13:27    Card   \n",
       "1      5212.8         4   1042.56   21893.76   2/6/2019  18:07    Epay   \n",
       "2      9183.6         4   1836.72   38571.12   3/9/2019  17:03    Cash   \n",
       "3     33739.2         6  10121.76  212556.96  1/15/2019  16:19    Cash   \n",
       "4     14508.0         2   1450.80   30466.80  3/11/2019  15:30    Epay   \n",
       "\n",
       "       cogs  gross margin percentage  gross income  Rating  \n",
       "0   59227.2                 4.761905       2961.36     5.9  \n",
       "1   20851.2                 4.761905       1042.56     4.5  \n",
       "2   36734.4                 4.761905       1836.72     6.8  \n",
       "3  202435.2                 4.761905      10121.76     4.5  \n",
       "4   29016.0                 4.761905       1450.80     4.4  "
      ]
     },
     "execution_count": 3,
     "metadata": {},
     "output_type": "execute_result"
    }
   ],
   "source": [
    "market_list1.head()"
   ]
  },
  {
   "cell_type": "code",
   "execution_count": 4,
   "metadata": {},
   "outputs": [
    {
     "data": {
      "text/html": [
       "<div>\n",
       "<style scoped>\n",
       "    .dataframe tbody tr th:only-of-type {\n",
       "        vertical-align: middle;\n",
       "    }\n",
       "\n",
       "    .dataframe tbody tr th {\n",
       "        vertical-align: top;\n",
       "    }\n",
       "\n",
       "    .dataframe thead th {\n",
       "        text-align: right;\n",
       "    }\n",
       "</style>\n",
       "<table border=\"1\" class=\"dataframe\">\n",
       "  <thead>\n",
       "    <tr style=\"text-align: right;\">\n",
       "      <th></th>\n",
       "      <th>Invoice ID</th>\n",
       "      <th>Branch</th>\n",
       "      <th>City</th>\n",
       "      <th>Customer type</th>\n",
       "      <th>Gender</th>\n",
       "      <th>Product line</th>\n",
       "      <th>Unit price</th>\n",
       "      <th>Quantity</th>\n",
       "      <th>Tax 5%</th>\n",
       "      <th>Total</th>\n",
       "      <th>Date</th>\n",
       "      <th>Time</th>\n",
       "      <th>Payment</th>\n",
       "      <th>cogs</th>\n",
       "      <th>gross margin percentage</th>\n",
       "      <th>gross income</th>\n",
       "      <th>Rating</th>\n",
       "    </tr>\n",
       "  </thead>\n",
       "  <tbody>\n",
       "    <tr>\n",
       "      <th>0</th>\n",
       "      <td>750-67-8428</td>\n",
       "      <td>A</td>\n",
       "      <td>Lagos</td>\n",
       "      <td>Member</td>\n",
       "      <td>Female</td>\n",
       "      <td>Health and beauty</td>\n",
       "      <td>26888.4</td>\n",
       "      <td>7</td>\n",
       "      <td>9410.94</td>\n",
       "      <td>197629.74</td>\n",
       "      <td>1/5/2019</td>\n",
       "      <td>13:08</td>\n",
       "      <td>Epay</td>\n",
       "      <td>188218.8</td>\n",
       "      <td>4.761905</td>\n",
       "      <td>9410.94</td>\n",
       "      <td>9.1</td>\n",
       "    </tr>\n",
       "    <tr>\n",
       "      <th>1</th>\n",
       "      <td>631-41-3108</td>\n",
       "      <td>A</td>\n",
       "      <td>Lagos</td>\n",
       "      <td>Normal</td>\n",
       "      <td>Male</td>\n",
       "      <td>Home and lifestyle</td>\n",
       "      <td>16678.8</td>\n",
       "      <td>7</td>\n",
       "      <td>5837.58</td>\n",
       "      <td>122589.18</td>\n",
       "      <td>3/3/2019</td>\n",
       "      <td>13:23</td>\n",
       "      <td>Card</td>\n",
       "      <td>116751.6</td>\n",
       "      <td>4.761905</td>\n",
       "      <td>5837.58</td>\n",
       "      <td>7.4</td>\n",
       "    </tr>\n",
       "    <tr>\n",
       "      <th>2</th>\n",
       "      <td>123-19-1176</td>\n",
       "      <td>A</td>\n",
       "      <td>Lagos</td>\n",
       "      <td>Member</td>\n",
       "      <td>Male</td>\n",
       "      <td>Health and beauty</td>\n",
       "      <td>20959.2</td>\n",
       "      <td>8</td>\n",
       "      <td>8383.68</td>\n",
       "      <td>176057.28</td>\n",
       "      <td>1/27/2019</td>\n",
       "      <td>20:33</td>\n",
       "      <td>Epay</td>\n",
       "      <td>167673.6</td>\n",
       "      <td>4.761905</td>\n",
       "      <td>8383.68</td>\n",
       "      <td>8.4</td>\n",
       "    </tr>\n",
       "    <tr>\n",
       "      <th>3</th>\n",
       "      <td>373-73-7910</td>\n",
       "      <td>A</td>\n",
       "      <td>Lagos</td>\n",
       "      <td>Normal</td>\n",
       "      <td>Male</td>\n",
       "      <td>Sports and travel</td>\n",
       "      <td>31071.6</td>\n",
       "      <td>7</td>\n",
       "      <td>10875.06</td>\n",
       "      <td>228376.26</td>\n",
       "      <td>2/8/2019</td>\n",
       "      <td>10:37</td>\n",
       "      <td>Epay</td>\n",
       "      <td>217501.2</td>\n",
       "      <td>4.761905</td>\n",
       "      <td>10875.06</td>\n",
       "      <td>5.3</td>\n",
       "    </tr>\n",
       "    <tr>\n",
       "      <th>4</th>\n",
       "      <td>355-53-5943</td>\n",
       "      <td>A</td>\n",
       "      <td>Lagos</td>\n",
       "      <td>Member</td>\n",
       "      <td>Female</td>\n",
       "      <td>Electronic accessories</td>\n",
       "      <td>24782.4</td>\n",
       "      <td>6</td>\n",
       "      <td>7434.72</td>\n",
       "      <td>156129.12</td>\n",
       "      <td>2/25/2019</td>\n",
       "      <td>14:36</td>\n",
       "      <td>Epay</td>\n",
       "      <td>148694.4</td>\n",
       "      <td>4.761905</td>\n",
       "      <td>7434.72</td>\n",
       "      <td>5.8</td>\n",
       "    </tr>\n",
       "  </tbody>\n",
       "</table>\n",
       "</div>"
      ],
      "text/plain": [
       "    Invoice ID Branch   City Customer type  Gender            Product line  \\\n",
       "0  750-67-8428      A  Lagos        Member  Female       Health and beauty   \n",
       "1  631-41-3108      A  Lagos        Normal    Male      Home and lifestyle   \n",
       "2  123-19-1176      A  Lagos        Member    Male       Health and beauty   \n",
       "3  373-73-7910      A  Lagos        Normal    Male       Sports and travel   \n",
       "4  355-53-5943      A  Lagos        Member  Female  Electronic accessories   \n",
       "\n",
       "   Unit price  Quantity    Tax 5%      Total       Date   Time Payment  \\\n",
       "0     26888.4         7   9410.94  197629.74   1/5/2019  13:08    Epay   \n",
       "1     16678.8         7   5837.58  122589.18   3/3/2019  13:23    Card   \n",
       "2     20959.2         8   8383.68  176057.28  1/27/2019  20:33    Epay   \n",
       "3     31071.6         7  10875.06  228376.26   2/8/2019  10:37    Epay   \n",
       "4     24782.4         6   7434.72  156129.12  2/25/2019  14:36    Epay   \n",
       "\n",
       "       cogs  gross margin percentage  gross income  Rating  \n",
       "0  188218.8                 4.761905       9410.94     9.1  \n",
       "1  116751.6                 4.761905       5837.58     7.4  \n",
       "2  167673.6                 4.761905       8383.68     8.4  \n",
       "3  217501.2                 4.761905      10875.06     5.3  \n",
       "4  148694.4                 4.761905       7434.72     5.8  "
      ]
     },
     "execution_count": 4,
     "metadata": {},
     "output_type": "execute_result"
    }
   ],
   "source": [
    "market_list2.head()"
   ]
  },
  {
   "cell_type": "code",
   "execution_count": 5,
   "metadata": {},
   "outputs": [
    {
     "data": {
      "text/html": [
       "<div>\n",
       "<style scoped>\n",
       "    .dataframe tbody tr th:only-of-type {\n",
       "        vertical-align: middle;\n",
       "    }\n",
       "\n",
       "    .dataframe tbody tr th {\n",
       "        vertical-align: top;\n",
       "    }\n",
       "\n",
       "    .dataframe thead th {\n",
       "        text-align: right;\n",
       "    }\n",
       "</style>\n",
       "<table border=\"1\" class=\"dataframe\">\n",
       "  <thead>\n",
       "    <tr style=\"text-align: right;\">\n",
       "      <th></th>\n",
       "      <th>Invoice ID</th>\n",
       "      <th>Branch</th>\n",
       "      <th>City</th>\n",
       "      <th>Customer type</th>\n",
       "      <th>Gender</th>\n",
       "      <th>Product line</th>\n",
       "      <th>Unit price</th>\n",
       "      <th>Quantity</th>\n",
       "      <th>Tax 5%</th>\n",
       "      <th>Total</th>\n",
       "      <th>Date</th>\n",
       "      <th>Time</th>\n",
       "      <th>Payment</th>\n",
       "      <th>cogs</th>\n",
       "      <th>gross margin percentage</th>\n",
       "      <th>gross income</th>\n",
       "      <th>Rating</th>\n",
       "    </tr>\n",
       "  </thead>\n",
       "  <tbody>\n",
       "    <tr>\n",
       "      <th>0</th>\n",
       "      <td>226-31-3081</td>\n",
       "      <td>C</td>\n",
       "      <td>Port Harcourt</td>\n",
       "      <td>Normal</td>\n",
       "      <td>Female</td>\n",
       "      <td>Electronic accessories</td>\n",
       "      <td>5500.8</td>\n",
       "      <td>5</td>\n",
       "      <td>1375.20</td>\n",
       "      <td>28879.20</td>\n",
       "      <td>3/8/2019</td>\n",
       "      <td>10:29</td>\n",
       "      <td>Cash</td>\n",
       "      <td>27504.0</td>\n",
       "      <td>4.761905</td>\n",
       "      <td>1375.20</td>\n",
       "      <td>9.6</td>\n",
       "    </tr>\n",
       "    <tr>\n",
       "      <th>1</th>\n",
       "      <td>699-14-3026</td>\n",
       "      <td>C</td>\n",
       "      <td>Port Harcourt</td>\n",
       "      <td>Normal</td>\n",
       "      <td>Male</td>\n",
       "      <td>Electronic accessories</td>\n",
       "      <td>30740.4</td>\n",
       "      <td>7</td>\n",
       "      <td>10759.14</td>\n",
       "      <td>225941.94</td>\n",
       "      <td>3/25/2019</td>\n",
       "      <td>18:30</td>\n",
       "      <td>Epay</td>\n",
       "      <td>215182.8</td>\n",
       "      <td>4.761905</td>\n",
       "      <td>10759.14</td>\n",
       "      <td>4.1</td>\n",
       "    </tr>\n",
       "    <tr>\n",
       "      <th>2</th>\n",
       "      <td>315-22-5665</td>\n",
       "      <td>C</td>\n",
       "      <td>Port Harcourt</td>\n",
       "      <td>Normal</td>\n",
       "      <td>Female</td>\n",
       "      <td>Home and lifestyle</td>\n",
       "      <td>26481.6</td>\n",
       "      <td>10</td>\n",
       "      <td>13240.80</td>\n",
       "      <td>278056.80</td>\n",
       "      <td>2/24/2019</td>\n",
       "      <td>11:38</td>\n",
       "      <td>Epay</td>\n",
       "      <td>264816.0</td>\n",
       "      <td>4.761905</td>\n",
       "      <td>13240.80</td>\n",
       "      <td>8.0</td>\n",
       "    </tr>\n",
       "    <tr>\n",
       "      <th>3</th>\n",
       "      <td>300-71-4605</td>\n",
       "      <td>C</td>\n",
       "      <td>Port Harcourt</td>\n",
       "      <td>Member</td>\n",
       "      <td>Male</td>\n",
       "      <td>Electronic accessories</td>\n",
       "      <td>30974.4</td>\n",
       "      <td>5</td>\n",
       "      <td>7743.60</td>\n",
       "      <td>162615.60</td>\n",
       "      <td>2/25/2019</td>\n",
       "      <td>11:24</td>\n",
       "      <td>Epay</td>\n",
       "      <td>154872.0</td>\n",
       "      <td>4.761905</td>\n",
       "      <td>7743.60</td>\n",
       "      <td>4.8</td>\n",
       "    </tr>\n",
       "    <tr>\n",
       "      <th>4</th>\n",
       "      <td>183-56-6882</td>\n",
       "      <td>C</td>\n",
       "      <td>Port Harcourt</td>\n",
       "      <td>Member</td>\n",
       "      <td>Female</td>\n",
       "      <td>Food and beverages</td>\n",
       "      <td>35791.2</td>\n",
       "      <td>4</td>\n",
       "      <td>7158.24</td>\n",
       "      <td>150323.04</td>\n",
       "      <td>2/6/2019</td>\n",
       "      <td>10:42</td>\n",
       "      <td>Epay</td>\n",
       "      <td>143164.8</td>\n",
       "      <td>4.761905</td>\n",
       "      <td>7158.24</td>\n",
       "      <td>7.5</td>\n",
       "    </tr>\n",
       "  </tbody>\n",
       "</table>\n",
       "</div>"
      ],
      "text/plain": [
       "    Invoice ID Branch           City Customer type  Gender  \\\n",
       "0  226-31-3081      C  Port Harcourt        Normal  Female   \n",
       "1  699-14-3026      C  Port Harcourt        Normal    Male   \n",
       "2  315-22-5665      C  Port Harcourt        Normal  Female   \n",
       "3  300-71-4605      C  Port Harcourt        Member    Male   \n",
       "4  183-56-6882      C  Port Harcourt        Member  Female   \n",
       "\n",
       "             Product line  Unit price  Quantity    Tax 5%      Total  \\\n",
       "0  Electronic accessories      5500.8         5   1375.20   28879.20   \n",
       "1  Electronic accessories     30740.4         7  10759.14  225941.94   \n",
       "2      Home and lifestyle     26481.6        10  13240.80  278056.80   \n",
       "3  Electronic accessories     30974.4         5   7743.60  162615.60   \n",
       "4      Food and beverages     35791.2         4   7158.24  150323.04   \n",
       "\n",
       "        Date   Time Payment      cogs  gross margin percentage  gross income  \\\n",
       "0   3/8/2019  10:29    Cash   27504.0                 4.761905       1375.20   \n",
       "1  3/25/2019  18:30    Epay  215182.8                 4.761905      10759.14   \n",
       "2  2/24/2019  11:38    Epay  264816.0                 4.761905      13240.80   \n",
       "3  2/25/2019  11:24    Epay  154872.0                 4.761905       7743.60   \n",
       "4   2/6/2019  10:42    Epay  143164.8                 4.761905       7158.24   \n",
       "\n",
       "   Rating  \n",
       "0     9.6  \n",
       "1     4.1  \n",
       "2     8.0  \n",
       "3     4.8  \n",
       "4     7.5  "
      ]
     },
     "execution_count": 5,
     "metadata": {},
     "output_type": "execute_result"
    }
   ],
   "source": [
    "market_list3.head()"
   ]
  },
  {
   "cell_type": "code",
   "execution_count": 6,
   "metadata": {},
   "outputs": [],
   "source": [
    "#Merges all the datasets provided vertically\n",
    "main_list = pd.concat([market_list1, market_list2, market_list3])"
   ]
  },
  {
   "cell_type": "markdown",
   "metadata": {},
   "source": [
    "# *Data exploration*"
   ]
  },
  {
   "cell_type": "code",
   "execution_count": 7,
   "metadata": {},
   "outputs": [
    {
     "data": {
      "text/html": [
       "<div>\n",
       "<style scoped>\n",
       "    .dataframe tbody tr th:only-of-type {\n",
       "        vertical-align: middle;\n",
       "    }\n",
       "\n",
       "    .dataframe tbody tr th {\n",
       "        vertical-align: top;\n",
       "    }\n",
       "\n",
       "    .dataframe thead th {\n",
       "        text-align: right;\n",
       "    }\n",
       "</style>\n",
       "<table border=\"1\" class=\"dataframe\">\n",
       "  <thead>\n",
       "    <tr style=\"text-align: right;\">\n",
       "      <th></th>\n",
       "      <th>Invoice ID</th>\n",
       "      <th>Branch</th>\n",
       "      <th>City</th>\n",
       "      <th>Customer type</th>\n",
       "      <th>Gender</th>\n",
       "      <th>Product line</th>\n",
       "      <th>Unit price</th>\n",
       "      <th>Quantity</th>\n",
       "      <th>Tax 5%</th>\n",
       "      <th>Total</th>\n",
       "      <th>Date</th>\n",
       "      <th>Time</th>\n",
       "      <th>Payment</th>\n",
       "      <th>cogs</th>\n",
       "      <th>gross margin percentage</th>\n",
       "      <th>gross income</th>\n",
       "      <th>Rating</th>\n",
       "    </tr>\n",
       "  </thead>\n",
       "  <tbody>\n",
       "    <tr>\n",
       "      <th>0</th>\n",
       "      <td>692-92-5582</td>\n",
       "      <td>B</td>\n",
       "      <td>Abuja</td>\n",
       "      <td>Member</td>\n",
       "      <td>Female</td>\n",
       "      <td>Food and beverages</td>\n",
       "      <td>19742.4</td>\n",
       "      <td>3</td>\n",
       "      <td>2961.36</td>\n",
       "      <td>62188.56</td>\n",
       "      <td>2/20/2019</td>\n",
       "      <td>13:27</td>\n",
       "      <td>Card</td>\n",
       "      <td>59227.2</td>\n",
       "      <td>4.761905</td>\n",
       "      <td>2961.36</td>\n",
       "      <td>5.9</td>\n",
       "    </tr>\n",
       "    <tr>\n",
       "      <th>1</th>\n",
       "      <td>351-62-0822</td>\n",
       "      <td>B</td>\n",
       "      <td>Abuja</td>\n",
       "      <td>Member</td>\n",
       "      <td>Female</td>\n",
       "      <td>Fashion accessories</td>\n",
       "      <td>5212.8</td>\n",
       "      <td>4</td>\n",
       "      <td>1042.56</td>\n",
       "      <td>21893.76</td>\n",
       "      <td>2/6/2019</td>\n",
       "      <td>18:07</td>\n",
       "      <td>Epay</td>\n",
       "      <td>20851.2</td>\n",
       "      <td>4.761905</td>\n",
       "      <td>1042.56</td>\n",
       "      <td>4.5</td>\n",
       "    </tr>\n",
       "    <tr>\n",
       "      <th>2</th>\n",
       "      <td>529-56-3974</td>\n",
       "      <td>B</td>\n",
       "      <td>Abuja</td>\n",
       "      <td>Member</td>\n",
       "      <td>Male</td>\n",
       "      <td>Electronic accessories</td>\n",
       "      <td>9183.6</td>\n",
       "      <td>4</td>\n",
       "      <td>1836.72</td>\n",
       "      <td>38571.12</td>\n",
       "      <td>3/9/2019</td>\n",
       "      <td>17:03</td>\n",
       "      <td>Cash</td>\n",
       "      <td>36734.4</td>\n",
       "      <td>4.761905</td>\n",
       "      <td>1836.72</td>\n",
       "      <td>6.8</td>\n",
       "    </tr>\n",
       "    <tr>\n",
       "      <th>3</th>\n",
       "      <td>299-46-1805</td>\n",
       "      <td>B</td>\n",
       "      <td>Abuja</td>\n",
       "      <td>Member</td>\n",
       "      <td>Female</td>\n",
       "      <td>Sports and travel</td>\n",
       "      <td>33739.2</td>\n",
       "      <td>6</td>\n",
       "      <td>10121.76</td>\n",
       "      <td>212556.96</td>\n",
       "      <td>1/15/2019</td>\n",
       "      <td>16:19</td>\n",
       "      <td>Cash</td>\n",
       "      <td>202435.2</td>\n",
       "      <td>4.761905</td>\n",
       "      <td>10121.76</td>\n",
       "      <td>4.5</td>\n",
       "    </tr>\n",
       "    <tr>\n",
       "      <th>4</th>\n",
       "      <td>319-50-3348</td>\n",
       "      <td>B</td>\n",
       "      <td>Abuja</td>\n",
       "      <td>Normal</td>\n",
       "      <td>Female</td>\n",
       "      <td>Home and lifestyle</td>\n",
       "      <td>14508.0</td>\n",
       "      <td>2</td>\n",
       "      <td>1450.80</td>\n",
       "      <td>30466.80</td>\n",
       "      <td>3/11/2019</td>\n",
       "      <td>15:30</td>\n",
       "      <td>Epay</td>\n",
       "      <td>29016.0</td>\n",
       "      <td>4.761905</td>\n",
       "      <td>1450.80</td>\n",
       "      <td>4.4</td>\n",
       "    </tr>\n",
       "  </tbody>\n",
       "</table>\n",
       "</div>"
      ],
      "text/plain": [
       "    Invoice ID Branch   City Customer type  Gender            Product line  \\\n",
       "0  692-92-5582      B  Abuja        Member  Female      Food and beverages   \n",
       "1  351-62-0822      B  Abuja        Member  Female     Fashion accessories   \n",
       "2  529-56-3974      B  Abuja        Member    Male  Electronic accessories   \n",
       "3  299-46-1805      B  Abuja        Member  Female       Sports and travel   \n",
       "4  319-50-3348      B  Abuja        Normal  Female      Home and lifestyle   \n",
       "\n",
       "   Unit price  Quantity    Tax 5%      Total       Date   Time Payment  \\\n",
       "0     19742.4         3   2961.36   62188.56  2/20/2019  13:27    Card   \n",
       "1      5212.8         4   1042.56   21893.76   2/6/2019  18:07    Epay   \n",
       "2      9183.6         4   1836.72   38571.12   3/9/2019  17:03    Cash   \n",
       "3     33739.2         6  10121.76  212556.96  1/15/2019  16:19    Cash   \n",
       "4     14508.0         2   1450.80   30466.80  3/11/2019  15:30    Epay   \n",
       "\n",
       "       cogs  gross margin percentage  gross income  Rating  \n",
       "0   59227.2                 4.761905       2961.36     5.9  \n",
       "1   20851.2                 4.761905       1042.56     4.5  \n",
       "2   36734.4                 4.761905       1836.72     6.8  \n",
       "3  202435.2                 4.761905      10121.76     4.5  \n",
       "4   29016.0                 4.761905       1450.80     4.4  "
      ]
     },
     "execution_count": 7,
     "metadata": {},
     "output_type": "execute_result"
    }
   ],
   "source": [
    "main_list.head()"
   ]
  },
  {
   "cell_type": "code",
   "execution_count": 8,
   "metadata": {},
   "outputs": [
    {
     "data": {
      "text/plain": [
       "(1000, 17)"
      ]
     },
     "execution_count": 8,
     "metadata": {},
     "output_type": "execute_result"
    }
   ],
   "source": [
    "main_list.shape"
   ]
  },
  {
   "cell_type": "code",
   "execution_count": 9,
   "metadata": {},
   "outputs": [
    {
     "data": {
      "text/plain": [
       "Index(['Invoice ID', 'Branch', 'City', 'Customer type', 'Gender',\n",
       "       'Product line', 'Unit price', 'Quantity', 'Tax 5%', 'Total', 'Date',\n",
       "       'Time', 'Payment', 'cogs', 'gross margin percentage', 'gross income',\n",
       "       'Rating'],\n",
       "      dtype='object')"
      ]
     },
     "execution_count": 9,
     "metadata": {},
     "output_type": "execute_result"
    }
   ],
   "source": [
    "main_list.columns"
   ]
  },
  {
   "cell_type": "code",
   "execution_count": 10,
   "metadata": {},
   "outputs": [
    {
     "data": {
      "text/plain": [
       "Invoice ID                 0\n",
       "Branch                     0\n",
       "City                       0\n",
       "Customer type              0\n",
       "Gender                     0\n",
       "Product line               0\n",
       "Unit price                 0\n",
       "Quantity                   0\n",
       "Tax 5%                     0\n",
       "Total                      0\n",
       "Date                       0\n",
       "Time                       0\n",
       "Payment                    0\n",
       "cogs                       0\n",
       "gross margin percentage    0\n",
       "gross income               0\n",
       "Rating                     0\n",
       "dtype: int64"
      ]
     },
     "execution_count": 10,
     "metadata": {},
     "output_type": "execute_result"
    }
   ],
   "source": [
    "#provides the sum of null values in every column\n",
    "main_list.isnull().sum()"
   ]
  },
  {
   "cell_type": "code",
   "execution_count": 11,
   "metadata": {},
   "outputs": [
    {
     "name": "stdout",
     "output_type": "stream",
     "text": [
      "<class 'pandas.core.frame.DataFrame'>\n",
      "Int64Index: 1000 entries, 0 to 327\n",
      "Data columns (total 17 columns):\n",
      " #   Column                   Non-Null Count  Dtype  \n",
      "---  ------                   --------------  -----  \n",
      " 0   Invoice ID               1000 non-null   object \n",
      " 1   Branch                   1000 non-null   object \n",
      " 2   City                     1000 non-null   object \n",
      " 3   Customer type            1000 non-null   object \n",
      " 4   Gender                   1000 non-null   object \n",
      " 5   Product line             1000 non-null   object \n",
      " 6   Unit price               1000 non-null   float64\n",
      " 7   Quantity                 1000 non-null   int64  \n",
      " 8   Tax 5%                   1000 non-null   float64\n",
      " 9   Total                    1000 non-null   float64\n",
      " 10  Date                     1000 non-null   object \n",
      " 11  Time                     1000 non-null   object \n",
      " 12  Payment                  1000 non-null   object \n",
      " 13  cogs                     1000 non-null   float64\n",
      " 14  gross margin percentage  1000 non-null   float64\n",
      " 15  gross income             1000 non-null   float64\n",
      " 16  Rating                   1000 non-null   float64\n",
      "dtypes: float64(7), int64(1), object(9)\n",
      "memory usage: 140.6+ KB\n"
     ]
    }
   ],
   "source": [
    "#returns a series with information about the structure and the columns in main_list\n",
    "main_list.info()"
   ]
  },
  {
   "cell_type": "code",
   "execution_count": 12,
   "metadata": {},
   "outputs": [
    {
     "data": {
      "text/html": [
       "<div>\n",
       "<style scoped>\n",
       "    .dataframe tbody tr th:only-of-type {\n",
       "        vertical-align: middle;\n",
       "    }\n",
       "\n",
       "    .dataframe tbody tr th {\n",
       "        vertical-align: top;\n",
       "    }\n",
       "\n",
       "    .dataframe thead th {\n",
       "        text-align: right;\n",
       "    }\n",
       "</style>\n",
       "<table border=\"1\" class=\"dataframe\">\n",
       "  <thead>\n",
       "    <tr style=\"text-align: right;\">\n",
       "      <th></th>\n",
       "      <th>Unit price</th>\n",
       "      <th>Quantity</th>\n",
       "      <th>Tax 5%</th>\n",
       "      <th>Total</th>\n",
       "      <th>cogs</th>\n",
       "      <th>gross margin percentage</th>\n",
       "      <th>gross income</th>\n",
       "      <th>Rating</th>\n",
       "    </tr>\n",
       "  </thead>\n",
       "  <tbody>\n",
       "    <tr>\n",
       "      <th>count</th>\n",
       "      <td>1000.000000</td>\n",
       "      <td>1000.000000</td>\n",
       "      <td>1000.000000</td>\n",
       "      <td>1000.000000</td>\n",
       "      <td>1000.000000</td>\n",
       "      <td>1.000000e+03</td>\n",
       "      <td>1000.000000</td>\n",
       "      <td>1000.00000</td>\n",
       "    </tr>\n",
       "    <tr>\n",
       "      <th>mean</th>\n",
       "      <td>20041.966800</td>\n",
       "      <td>5.510000</td>\n",
       "      <td>5536.572840</td>\n",
       "      <td>116268.029640</td>\n",
       "      <td>110731.456800</td>\n",
       "      <td>4.761905e+00</td>\n",
       "      <td>5536.572840</td>\n",
       "      <td>6.97270</td>\n",
       "    </tr>\n",
       "    <tr>\n",
       "      <th>std</th>\n",
       "      <td>9538.066205</td>\n",
       "      <td>2.923431</td>\n",
       "      <td>4215.177173</td>\n",
       "      <td>88518.720636</td>\n",
       "      <td>84303.543463</td>\n",
       "      <td>6.131498e-14</td>\n",
       "      <td>4215.177173</td>\n",
       "      <td>1.71858</td>\n",
       "    </tr>\n",
       "    <tr>\n",
       "      <th>min</th>\n",
       "      <td>3628.800000</td>\n",
       "      <td>1.000000</td>\n",
       "      <td>183.060000</td>\n",
       "      <td>3844.260000</td>\n",
       "      <td>3661.200000</td>\n",
       "      <td>4.761905e+00</td>\n",
       "      <td>183.060000</td>\n",
       "      <td>4.00000</td>\n",
       "    </tr>\n",
       "    <tr>\n",
       "      <th>25%</th>\n",
       "      <td>11835.000000</td>\n",
       "      <td>3.000000</td>\n",
       "      <td>2132.955000</td>\n",
       "      <td>44792.055000</td>\n",
       "      <td>42659.100000</td>\n",
       "      <td>4.761905e+00</td>\n",
       "      <td>2132.955000</td>\n",
       "      <td>5.50000</td>\n",
       "    </tr>\n",
       "    <tr>\n",
       "      <th>50%</th>\n",
       "      <td>19882.800000</td>\n",
       "      <td>5.000000</td>\n",
       "      <td>4351.680000</td>\n",
       "      <td>91385.280000</td>\n",
       "      <td>87033.600000</td>\n",
       "      <td>4.761905e+00</td>\n",
       "      <td>4351.680000</td>\n",
       "      <td>7.00000</td>\n",
       "    </tr>\n",
       "    <tr>\n",
       "      <th>75%</th>\n",
       "      <td>28056.600000</td>\n",
       "      <td>8.000000</td>\n",
       "      <td>8080.290000</td>\n",
       "      <td>169686.090000</td>\n",
       "      <td>161605.800000</td>\n",
       "      <td>4.761905e+00</td>\n",
       "      <td>8080.290000</td>\n",
       "      <td>8.50000</td>\n",
       "    </tr>\n",
       "    <tr>\n",
       "      <th>max</th>\n",
       "      <td>35985.600000</td>\n",
       "      <td>10.000000</td>\n",
       "      <td>17874.000000</td>\n",
       "      <td>375354.000000</td>\n",
       "      <td>357480.000000</td>\n",
       "      <td>4.761905e+00</td>\n",
       "      <td>17874.000000</td>\n",
       "      <td>10.00000</td>\n",
       "    </tr>\n",
       "  </tbody>\n",
       "</table>\n",
       "</div>"
      ],
      "text/plain": [
       "         Unit price     Quantity        Tax 5%          Total           cogs  \\\n",
       "count   1000.000000  1000.000000   1000.000000    1000.000000    1000.000000   \n",
       "mean   20041.966800     5.510000   5536.572840  116268.029640  110731.456800   \n",
       "std     9538.066205     2.923431   4215.177173   88518.720636   84303.543463   \n",
       "min     3628.800000     1.000000    183.060000    3844.260000    3661.200000   \n",
       "25%    11835.000000     3.000000   2132.955000   44792.055000   42659.100000   \n",
       "50%    19882.800000     5.000000   4351.680000   91385.280000   87033.600000   \n",
       "75%    28056.600000     8.000000   8080.290000  169686.090000  161605.800000   \n",
       "max    35985.600000    10.000000  17874.000000  375354.000000  357480.000000   \n",
       "\n",
       "       gross margin percentage  gross income      Rating  \n",
       "count             1.000000e+03   1000.000000  1000.00000  \n",
       "mean              4.761905e+00   5536.572840     6.97270  \n",
       "std               6.131498e-14   4215.177173     1.71858  \n",
       "min               4.761905e+00    183.060000     4.00000  \n",
       "25%               4.761905e+00   2132.955000     5.50000  \n",
       "50%               4.761905e+00   4351.680000     7.00000  \n",
       "75%               4.761905e+00   8080.290000     8.50000  \n",
       "max               4.761905e+00  17874.000000    10.00000  "
      ]
     },
     "execution_count": 12,
     "metadata": {},
     "output_type": "execute_result"
    }
   ],
   "source": [
    "#provides a statistical summary of all numerical columns\n",
    "main_list.describe()"
   ]
  },
  {
   "cell_type": "code",
   "execution_count": 13,
   "metadata": {},
   "outputs": [
    {
     "data": {
      "text/html": [
       "<div>\n",
       "<style scoped>\n",
       "    .dataframe tbody tr th:only-of-type {\n",
       "        vertical-align: middle;\n",
       "    }\n",
       "\n",
       "    .dataframe tbody tr th {\n",
       "        vertical-align: top;\n",
       "    }\n",
       "\n",
       "    .dataframe thead th {\n",
       "        text-align: right;\n",
       "    }\n",
       "</style>\n",
       "<table border=\"1\" class=\"dataframe\">\n",
       "  <thead>\n",
       "    <tr style=\"text-align: right;\">\n",
       "      <th></th>\n",
       "      <th>Invoice ID</th>\n",
       "      <th>Branch</th>\n",
       "      <th>City</th>\n",
       "      <th>Customer type</th>\n",
       "      <th>Gender</th>\n",
       "      <th>Product line</th>\n",
       "      <th>Date</th>\n",
       "      <th>Time</th>\n",
       "      <th>Payment</th>\n",
       "    </tr>\n",
       "  </thead>\n",
       "  <tbody>\n",
       "    <tr>\n",
       "      <th>count</th>\n",
       "      <td>1000</td>\n",
       "      <td>1000</td>\n",
       "      <td>1000</td>\n",
       "      <td>1000</td>\n",
       "      <td>1000</td>\n",
       "      <td>1000</td>\n",
       "      <td>1000</td>\n",
       "      <td>1000</td>\n",
       "      <td>1000</td>\n",
       "    </tr>\n",
       "    <tr>\n",
       "      <th>unique</th>\n",
       "      <td>1000</td>\n",
       "      <td>3</td>\n",
       "      <td>3</td>\n",
       "      <td>2</td>\n",
       "      <td>2</td>\n",
       "      <td>6</td>\n",
       "      <td>89</td>\n",
       "      <td>506</td>\n",
       "      <td>3</td>\n",
       "    </tr>\n",
       "    <tr>\n",
       "      <th>top</th>\n",
       "      <td>692-92-5582</td>\n",
       "      <td>A</td>\n",
       "      <td>Lagos</td>\n",
       "      <td>Member</td>\n",
       "      <td>Female</td>\n",
       "      <td>Fashion accessories</td>\n",
       "      <td>2/7/2019</td>\n",
       "      <td>14:42</td>\n",
       "      <td>Epay</td>\n",
       "    </tr>\n",
       "    <tr>\n",
       "      <th>freq</th>\n",
       "      <td>1</td>\n",
       "      <td>340</td>\n",
       "      <td>340</td>\n",
       "      <td>501</td>\n",
       "      <td>501</td>\n",
       "      <td>178</td>\n",
       "      <td>20</td>\n",
       "      <td>7</td>\n",
       "      <td>345</td>\n",
       "    </tr>\n",
       "  </tbody>\n",
       "</table>\n",
       "</div>"
      ],
      "text/plain": [
       "         Invoice ID Branch   City Customer type  Gender         Product line  \\\n",
       "count          1000   1000   1000          1000    1000                 1000   \n",
       "unique         1000      3      3             2       2                    6   \n",
       "top     692-92-5582      A  Lagos        Member  Female  Fashion accessories   \n",
       "freq              1    340    340           501     501                  178   \n",
       "\n",
       "            Date   Time Payment  \n",
       "count       1000   1000    1000  \n",
       "unique        89    506       3  \n",
       "top     2/7/2019  14:42    Epay  \n",
       "freq          20      7     345  "
      ]
     },
     "execution_count": 13,
     "metadata": {},
     "output_type": "execute_result"
    }
   ],
   "source": [
    "#provides a statistical summary of non-numerical columns\n",
    "main_list.describe(include = \"O\")"
   ]
  },
  {
   "cell_type": "markdown",
   "metadata": {},
   "source": [
    "# *Dealing with datetime features*"
   ]
  },
  {
   "cell_type": "code",
   "execution_count": 14,
   "metadata": {},
   "outputs": [],
   "source": [
    "#converts the date column to datetime datatype\n",
    "main_list['Date'] = pd.to_datetime(main_list['Date'])"
   ]
  },
  {
   "cell_type": "code",
   "execution_count": 15,
   "metadata": {},
   "outputs": [],
   "source": [
    "main_list['Time'] = pd.to_datetime(main_list['Time'])"
   ]
  },
  {
   "cell_type": "code",
   "execution_count": 16,
   "metadata": {},
   "outputs": [],
   "source": [
    "#extracts various components of a datatime datatype; hours, day, month\n",
    "main_list['Hour'] = main_list['Time'].dt.hour\n",
    "\n",
    "main_list['Day'] = main_list['Date'].dt.day_name()\n",
    "\n",
    "main_list['Month']= main_list['Date'].dt.month_name()"
   ]
  },
  {
   "cell_type": "code",
   "execution_count": 17,
   "metadata": {},
   "outputs": [],
   "source": [
    "main_list['Hour'] = main_list['Hour'].astype('O')"
   ]
  },
  {
   "cell_type": "code",
   "execution_count": 18,
   "metadata": {},
   "outputs": [
    {
     "name": "stdout",
     "output_type": "stream",
     "text": [
      "<class 'pandas.core.frame.DataFrame'>\n",
      "Int64Index: 1000 entries, 0 to 327\n",
      "Data columns (total 20 columns):\n",
      " #   Column                   Non-Null Count  Dtype         \n",
      "---  ------                   --------------  -----         \n",
      " 0   Invoice ID               1000 non-null   object        \n",
      " 1   Branch                   1000 non-null   object        \n",
      " 2   City                     1000 non-null   object        \n",
      " 3   Customer type            1000 non-null   object        \n",
      " 4   Gender                   1000 non-null   object        \n",
      " 5   Product line             1000 non-null   object        \n",
      " 6   Unit price               1000 non-null   float64       \n",
      " 7   Quantity                 1000 non-null   int64         \n",
      " 8   Tax 5%                   1000 non-null   float64       \n",
      " 9   Total                    1000 non-null   float64       \n",
      " 10  Date                     1000 non-null   datetime64[ns]\n",
      " 11  Time                     1000 non-null   datetime64[ns]\n",
      " 12  Payment                  1000 non-null   object        \n",
      " 13  cogs                     1000 non-null   float64       \n",
      " 14  gross margin percentage  1000 non-null   float64       \n",
      " 15  gross income             1000 non-null   float64       \n",
      " 16  Rating                   1000 non-null   float64       \n",
      " 17  Hour                     1000 non-null   object        \n",
      " 18  Day                      1000 non-null   object        \n",
      " 19  Month                    1000 non-null   object        \n",
      "dtypes: datetime64[ns](2), float64(7), int64(1), object(10)\n",
      "memory usage: 164.1+ KB\n"
     ]
    }
   ],
   "source": [
    "main_list.info()"
   ]
  },
  {
   "cell_type": "code",
   "execution_count": 19,
   "metadata": {},
   "outputs": [
    {
     "data": {
      "text/html": [
       "<div>\n",
       "<style scoped>\n",
       "    .dataframe tbody tr th:only-of-type {\n",
       "        vertical-align: middle;\n",
       "    }\n",
       "\n",
       "    .dataframe tbody tr th {\n",
       "        vertical-align: top;\n",
       "    }\n",
       "\n",
       "    .dataframe thead th {\n",
       "        text-align: right;\n",
       "    }\n",
       "</style>\n",
       "<table border=\"1\" class=\"dataframe\">\n",
       "  <thead>\n",
       "    <tr style=\"text-align: right;\">\n",
       "      <th></th>\n",
       "      <th>Invoice ID</th>\n",
       "      <th>Branch</th>\n",
       "      <th>City</th>\n",
       "      <th>Customer type</th>\n",
       "      <th>Gender</th>\n",
       "      <th>Product line</th>\n",
       "      <th>Unit price</th>\n",
       "      <th>Quantity</th>\n",
       "      <th>Tax 5%</th>\n",
       "      <th>Total</th>\n",
       "      <th>Date</th>\n",
       "      <th>Time</th>\n",
       "      <th>Payment</th>\n",
       "      <th>cogs</th>\n",
       "      <th>gross margin percentage</th>\n",
       "      <th>gross income</th>\n",
       "      <th>Rating</th>\n",
       "      <th>Hour</th>\n",
       "      <th>Day</th>\n",
       "      <th>Month</th>\n",
       "    </tr>\n",
       "  </thead>\n",
       "  <tbody>\n",
       "    <tr>\n",
       "      <th>0</th>\n",
       "      <td>692-92-5582</td>\n",
       "      <td>B</td>\n",
       "      <td>Abuja</td>\n",
       "      <td>Member</td>\n",
       "      <td>Female</td>\n",
       "      <td>Food and beverages</td>\n",
       "      <td>19742.4</td>\n",
       "      <td>3</td>\n",
       "      <td>2961.36</td>\n",
       "      <td>62188.56</td>\n",
       "      <td>2019-02-20</td>\n",
       "      <td>2023-05-25 13:27:00</td>\n",
       "      <td>Card</td>\n",
       "      <td>59227.2</td>\n",
       "      <td>4.761905</td>\n",
       "      <td>2961.36</td>\n",
       "      <td>5.9</td>\n",
       "      <td>13</td>\n",
       "      <td>Wednesday</td>\n",
       "      <td>February</td>\n",
       "    </tr>\n",
       "    <tr>\n",
       "      <th>1</th>\n",
       "      <td>351-62-0822</td>\n",
       "      <td>B</td>\n",
       "      <td>Abuja</td>\n",
       "      <td>Member</td>\n",
       "      <td>Female</td>\n",
       "      <td>Fashion accessories</td>\n",
       "      <td>5212.8</td>\n",
       "      <td>4</td>\n",
       "      <td>1042.56</td>\n",
       "      <td>21893.76</td>\n",
       "      <td>2019-02-06</td>\n",
       "      <td>2023-05-25 18:07:00</td>\n",
       "      <td>Epay</td>\n",
       "      <td>20851.2</td>\n",
       "      <td>4.761905</td>\n",
       "      <td>1042.56</td>\n",
       "      <td>4.5</td>\n",
       "      <td>18</td>\n",
       "      <td>Wednesday</td>\n",
       "      <td>February</td>\n",
       "    </tr>\n",
       "    <tr>\n",
       "      <th>2</th>\n",
       "      <td>529-56-3974</td>\n",
       "      <td>B</td>\n",
       "      <td>Abuja</td>\n",
       "      <td>Member</td>\n",
       "      <td>Male</td>\n",
       "      <td>Electronic accessories</td>\n",
       "      <td>9183.6</td>\n",
       "      <td>4</td>\n",
       "      <td>1836.72</td>\n",
       "      <td>38571.12</td>\n",
       "      <td>2019-03-09</td>\n",
       "      <td>2023-05-25 17:03:00</td>\n",
       "      <td>Cash</td>\n",
       "      <td>36734.4</td>\n",
       "      <td>4.761905</td>\n",
       "      <td>1836.72</td>\n",
       "      <td>6.8</td>\n",
       "      <td>17</td>\n",
       "      <td>Saturday</td>\n",
       "      <td>March</td>\n",
       "    </tr>\n",
       "    <tr>\n",
       "      <th>3</th>\n",
       "      <td>299-46-1805</td>\n",
       "      <td>B</td>\n",
       "      <td>Abuja</td>\n",
       "      <td>Member</td>\n",
       "      <td>Female</td>\n",
       "      <td>Sports and travel</td>\n",
       "      <td>33739.2</td>\n",
       "      <td>6</td>\n",
       "      <td>10121.76</td>\n",
       "      <td>212556.96</td>\n",
       "      <td>2019-01-15</td>\n",
       "      <td>2023-05-25 16:19:00</td>\n",
       "      <td>Cash</td>\n",
       "      <td>202435.2</td>\n",
       "      <td>4.761905</td>\n",
       "      <td>10121.76</td>\n",
       "      <td>4.5</td>\n",
       "      <td>16</td>\n",
       "      <td>Tuesday</td>\n",
       "      <td>January</td>\n",
       "    </tr>\n",
       "    <tr>\n",
       "      <th>4</th>\n",
       "      <td>319-50-3348</td>\n",
       "      <td>B</td>\n",
       "      <td>Abuja</td>\n",
       "      <td>Normal</td>\n",
       "      <td>Female</td>\n",
       "      <td>Home and lifestyle</td>\n",
       "      <td>14508.0</td>\n",
       "      <td>2</td>\n",
       "      <td>1450.80</td>\n",
       "      <td>30466.80</td>\n",
       "      <td>2019-03-11</td>\n",
       "      <td>2023-05-25 15:30:00</td>\n",
       "      <td>Epay</td>\n",
       "      <td>29016.0</td>\n",
       "      <td>4.761905</td>\n",
       "      <td>1450.80</td>\n",
       "      <td>4.4</td>\n",
       "      <td>15</td>\n",
       "      <td>Monday</td>\n",
       "      <td>March</td>\n",
       "    </tr>\n",
       "  </tbody>\n",
       "</table>\n",
       "</div>"
      ],
      "text/plain": [
       "    Invoice ID Branch   City Customer type  Gender            Product line  \\\n",
       "0  692-92-5582      B  Abuja        Member  Female      Food and beverages   \n",
       "1  351-62-0822      B  Abuja        Member  Female     Fashion accessories   \n",
       "2  529-56-3974      B  Abuja        Member    Male  Electronic accessories   \n",
       "3  299-46-1805      B  Abuja        Member  Female       Sports and travel   \n",
       "4  319-50-3348      B  Abuja        Normal  Female      Home and lifestyle   \n",
       "\n",
       "   Unit price  Quantity    Tax 5%      Total       Date                Time  \\\n",
       "0     19742.4         3   2961.36   62188.56 2019-02-20 2023-05-25 13:27:00   \n",
       "1      5212.8         4   1042.56   21893.76 2019-02-06 2023-05-25 18:07:00   \n",
       "2      9183.6         4   1836.72   38571.12 2019-03-09 2023-05-25 17:03:00   \n",
       "3     33739.2         6  10121.76  212556.96 2019-01-15 2023-05-25 16:19:00   \n",
       "4     14508.0         2   1450.80   30466.80 2019-03-11 2023-05-25 15:30:00   \n",
       "\n",
       "  Payment      cogs  gross margin percentage  gross income  Rating Hour  \\\n",
       "0    Card   59227.2                 4.761905       2961.36     5.9   13   \n",
       "1    Epay   20851.2                 4.761905       1042.56     4.5   18   \n",
       "2    Cash   36734.4                 4.761905       1836.72     6.8   17   \n",
       "3    Cash  202435.2                 4.761905      10121.76     4.5   16   \n",
       "4    Epay   29016.0                 4.761905       1450.80     4.4   15   \n",
       "\n",
       "         Day     Month  \n",
       "0  Wednesday  February  \n",
       "1  Wednesday  February  \n",
       "2   Saturday     March  \n",
       "3    Tuesday   January  \n",
       "4     Monday     March  "
      ]
     },
     "execution_count": 19,
     "metadata": {},
     "output_type": "execute_result"
    }
   ],
   "source": [
    "main_list.head()"
   ]
  },
  {
   "cell_type": "markdown",
   "metadata": {},
   "source": [
    "# Exploring columns"
   ]
  },
  {
   "cell_type": "code",
   "execution_count": 20,
   "metadata": {},
   "outputs": [
    {
     "name": "stdout",
     "output_type": "stream",
     "text": [
      "Index(['Invoice ID', 'Branch', 'City', 'Customer type', 'Gender',\n",
      "       'Product line', 'Payment', 'Hour', 'Day', 'Month'],\n",
      "      dtype='object')\n"
     ]
    }
   ],
   "source": [
    "print(main_list.select_dtypes(include = \"O\").columns)"
   ]
  },
  {
   "cell_type": "code",
   "execution_count": 21,
   "metadata": {},
   "outputs": [],
   "source": [
    "#dictionary comprehension which converts all object type variables to categories.\n",
    "categorical_columns = {k: \"category\" for k in main_list.select_dtypes(include = \"O\").columns}"
   ]
  },
  {
   "cell_type": "code",
   "execution_count": 22,
   "metadata": {},
   "outputs": [],
   "source": [
    "main_list = main_list.astype(categorical_columns)"
   ]
  },
  {
   "cell_type": "code",
   "execution_count": 23,
   "metadata": {},
   "outputs": [
    {
     "name": "stdout",
     "output_type": "stream",
     "text": [
      "<class 'pandas.core.frame.DataFrame'>\n",
      "Int64Index: 1000 entries, 0 to 327\n",
      "Data columns (total 20 columns):\n",
      " #   Column                   Non-Null Count  Dtype         \n",
      "---  ------                   --------------  -----         \n",
      " 0   Invoice ID               1000 non-null   category      \n",
      " 1   Branch                   1000 non-null   category      \n",
      " 2   City                     1000 non-null   category      \n",
      " 3   Customer type            1000 non-null   category      \n",
      " 4   Gender                   1000 non-null   category      \n",
      " 5   Product line             1000 non-null   category      \n",
      " 6   Unit price               1000 non-null   float64       \n",
      " 7   Quantity                 1000 non-null   int64         \n",
      " 8   Tax 5%                   1000 non-null   float64       \n",
      " 9   Total                    1000 non-null   float64       \n",
      " 10  Date                     1000 non-null   datetime64[ns]\n",
      " 11  Time                     1000 non-null   datetime64[ns]\n",
      " 12  Payment                  1000 non-null   category      \n",
      " 13  cogs                     1000 non-null   float64       \n",
      " 14  gross margin percentage  1000 non-null   float64       \n",
      " 15  gross income             1000 non-null   float64       \n",
      " 16  Rating                   1000 non-null   float64       \n",
      " 17  Hour                     1000 non-null   category      \n",
      " 18  Day                      1000 non-null   category      \n",
      " 19  Month                    1000 non-null   category      \n",
      "dtypes: category(10), datetime64[ns](2), float64(7), int64(1)\n",
      "memory usage: 138.5 KB\n"
     ]
    }
   ],
   "source": [
    "main_list.info()"
   ]
  },
  {
   "cell_type": "code",
   "execution_count": 24,
   "metadata": {},
   "outputs": [
    {
     "data": {
      "text/plain": [
       "['Abuja', 'Lagos', 'Port Harcourt']"
      ]
     },
     "execution_count": 24,
     "metadata": {},
     "output_type": "execute_result"
    }
   ],
   "source": [
    "main_list['City'].unique().tolist()"
   ]
  },
  {
   "cell_type": "code",
   "execution_count": 25,
   "metadata": {},
   "outputs": [
    {
     "data": {
      "text/plain": [
       "['Member', 'Normal']"
      ]
     },
     "execution_count": 25,
     "metadata": {},
     "output_type": "execute_result"
    }
   ],
   "source": [
    "main_list['Customer type'].unique().tolist()"
   ]
  },
  {
   "cell_type": "code",
   "execution_count": 26,
   "metadata": {},
   "outputs": [
    {
     "data": {
      "text/plain": [
       "['Female', 'Male']"
      ]
     },
     "execution_count": 26,
     "metadata": {},
     "output_type": "execute_result"
    }
   ],
   "source": [
    "main_list['Gender'].unique().tolist()"
   ]
  },
  {
   "cell_type": "code",
   "execution_count": 27,
   "metadata": {
    "scrolled": true
   },
   "outputs": [
    {
     "data": {
      "text/plain": [
       "['Food and beverages',\n",
       " 'Fashion accessories',\n",
       " 'Electronic accessories',\n",
       " 'Sports and travel',\n",
       " 'Home and lifestyle',\n",
       " 'Health and beauty']"
      ]
     },
     "execution_count": 27,
     "metadata": {},
     "output_type": "execute_result"
    }
   ],
   "source": [
    "main_list['Product line'].unique().tolist()"
   ]
  },
  {
   "cell_type": "code",
   "execution_count": 28,
   "metadata": {},
   "outputs": [
    {
     "data": {
      "text/plain": [
       "['Card', 'Epay', 'Cash']"
      ]
     },
     "execution_count": 28,
     "metadata": {},
     "output_type": "execute_result"
    }
   ],
   "source": [
    "main_list['Payment'].unique().tolist()"
   ]
  },
  {
   "cell_type": "code",
   "execution_count": 29,
   "metadata": {},
   "outputs": [
    {
     "data": {
      "text/plain": [
       "A    340\n",
       "B    332\n",
       "C    328\n",
       "Name: Branch, dtype: int64"
      ]
     },
     "execution_count": 29,
     "metadata": {},
     "output_type": "execute_result"
    }
   ],
   "source": [
    "main_list['Branch'].value_counts()"
   ]
  },
  {
   "cell_type": "code",
   "execution_count": 30,
   "metadata": {},
   "outputs": [
    {
     "data": {
      "text/plain": [
       "Lagos            340\n",
       "Abuja            332\n",
       "Port Harcourt    328\n",
       "Name: City, dtype: int64"
      ]
     },
     "execution_count": 30,
     "metadata": {},
     "output_type": "execute_result"
    }
   ],
   "source": [
    "main_list['City'].value_counts()"
   ]
  },
  {
   "cell_type": "markdown",
   "metadata": {},
   "source": [
    "**The numbers are the same, for branches and cities. This could mean that the cities and branches are correspondent to each other**"
   ]
  },
  {
   "cell_type": "code",
   "execution_count": 31,
   "metadata": {},
   "outputs": [
    {
     "name": "stdout",
     "output_type": "stream",
     "text": [
      "Lagos\n",
      "Abuja\n",
      "Port Harcourt\n"
     ]
    }
   ],
   "source": [
    "#provides the unique values for city corresponding to every branch\n",
    "print(main_list.query(\"Branch == 'A'\")['City'].unique()[0])\n",
    "print(main_list.query(\"Branch == 'B'\")['City'].unique()[0])\n",
    "print(main_list.query(\"Branch == 'C'\")['City'].unique()[0])"
   ]
  },
  {
   "cell_type": "markdown",
   "metadata": {},
   "source": [
    "**We can see that the branches A, B, C are correspondent with the cities Lagos, Abuja and Port Harcourt respectively**"
   ]
  },
  {
   "cell_type": "code",
   "execution_count": 32,
   "metadata": {},
   "outputs": [
    {
     "data": {
      "text/plain": [
       "Member    0.501\n",
       "Normal    0.499\n",
       "Name: Customer type, dtype: float64"
      ]
     },
     "execution_count": 32,
     "metadata": {},
     "output_type": "execute_result"
    }
   ],
   "source": [
    "main_list['Customer type'].value_counts(normalize = True)"
   ]
  },
  {
   "cell_type": "code",
   "execution_count": 33,
   "metadata": {},
   "outputs": [
    {
     "data": {
      "text/plain": [
       "Female    0.501\n",
       "Male      0.499\n",
       "Name: Gender, dtype: float64"
      ]
     },
     "execution_count": 33,
     "metadata": {},
     "output_type": "execute_result"
    }
   ],
   "source": [
    "main_list['Gender'].value_counts(normalize = True)"
   ]
  },
  {
   "cell_type": "markdown",
   "metadata": {},
   "source": [
    "**There are also similar counts for subcategories in the CUSTOMER TYPE and GENDER columns. We need to find out if only female are members or only males are normal customers**"
   ]
  },
  {
   "cell_type": "code",
   "execution_count": 34,
   "metadata": {},
   "outputs": [
    {
     "name": "stdout",
     "output_type": "stream",
     "text": [
      "['Member', 'Normal']\n",
      "Categories (2, object): ['Member', 'Normal']\n"
     ]
    }
   ],
   "source": [
    "print(main_list.query(\"Gender == 'Female'\")['Customer type'].unique())"
   ]
  },
  {
   "cell_type": "markdown",
   "metadata": {},
   "source": [
    "**Though the numbers could be misleading, not all Members are females and not all Normal customers are Males**"
   ]
  },
  {
   "cell_type": "code",
   "execution_count": 35,
   "metadata": {},
   "outputs": [
    {
     "data": {
      "text/plain": [
       "Health and beauty         0.152\n",
       "Home and lifestyle        0.160\n",
       "Sports and travel         0.166\n",
       "Electronic accessories    0.170\n",
       "Food and beverages        0.174\n",
       "Fashion accessories       0.178\n",
       "Name: Product line, dtype: float64"
      ]
     },
     "execution_count": 35,
     "metadata": {},
     "output_type": "execute_result"
    }
   ],
   "source": [
    "pro_line_perc = main_list['Product line'].value_counts(normalize = True).sort_values()\n",
    "\n",
    "pro_line_perc"
   ]
  },
  {
   "cell_type": "code",
   "execution_count": 36,
   "metadata": {},
   "outputs": [
    {
     "name": "stdout",
     "output_type": "stream",
     "text": [
      "2.6%\n"
     ]
    }
   ],
   "source": [
    "#Provides the difference bwtween the least and most purchaced product line\n",
    "print(f'{round((pro_line_perc.max() - pro_line_perc.min()) * 100, 2)}%')"
   ]
  },
  {
   "cell_type": "markdown",
   "metadata": {},
   "source": [
    "**Theres 2.6% more orders on Fashion Accessories(most) than Health and beauty(least) products. Based on these results, there are no significantly underperforming product lines Across all cities**"
   ]
  },
  {
   "cell_type": "code",
   "execution_count": 37,
   "metadata": {},
   "outputs": [
    {
     "data": {
      "text/html": [
       "<div>\n",
       "<style scoped>\n",
       "    .dataframe tbody tr th:only-of-type {\n",
       "        vertical-align: middle;\n",
       "    }\n",
       "\n",
       "    .dataframe tbody tr th {\n",
       "        vertical-align: top;\n",
       "    }\n",
       "\n",
       "    .dataframe thead th {\n",
       "        text-align: right;\n",
       "    }\n",
       "</style>\n",
       "<table border=\"1\" class=\"dataframe\">\n",
       "  <thead>\n",
       "    <tr style=\"text-align: right;\">\n",
       "      <th></th>\n",
       "      <th>Unit price</th>\n",
       "      <th>Quantity</th>\n",
       "      <th>Tax 5%</th>\n",
       "      <th>Total</th>\n",
       "      <th>cogs</th>\n",
       "      <th>gross margin percentage</th>\n",
       "      <th>gross income</th>\n",
       "      <th>Rating</th>\n",
       "    </tr>\n",
       "  </thead>\n",
       "  <tbody>\n",
       "    <tr>\n",
       "      <th>count</th>\n",
       "      <td>1000.000000</td>\n",
       "      <td>1000.000000</td>\n",
       "      <td>1000.000000</td>\n",
       "      <td>1000.000000</td>\n",
       "      <td>1000.000000</td>\n",
       "      <td>1.000000e+03</td>\n",
       "      <td>1000.000000</td>\n",
       "      <td>1000.00000</td>\n",
       "    </tr>\n",
       "    <tr>\n",
       "      <th>mean</th>\n",
       "      <td>20041.966800</td>\n",
       "      <td>5.510000</td>\n",
       "      <td>5536.572840</td>\n",
       "      <td>116268.029640</td>\n",
       "      <td>110731.456800</td>\n",
       "      <td>4.761905e+00</td>\n",
       "      <td>5536.572840</td>\n",
       "      <td>6.97270</td>\n",
       "    </tr>\n",
       "    <tr>\n",
       "      <th>std</th>\n",
       "      <td>9538.066205</td>\n",
       "      <td>2.923431</td>\n",
       "      <td>4215.177173</td>\n",
       "      <td>88518.720636</td>\n",
       "      <td>84303.543463</td>\n",
       "      <td>6.131498e-14</td>\n",
       "      <td>4215.177173</td>\n",
       "      <td>1.71858</td>\n",
       "    </tr>\n",
       "    <tr>\n",
       "      <th>min</th>\n",
       "      <td>3628.800000</td>\n",
       "      <td>1.000000</td>\n",
       "      <td>183.060000</td>\n",
       "      <td>3844.260000</td>\n",
       "      <td>3661.200000</td>\n",
       "      <td>4.761905e+00</td>\n",
       "      <td>183.060000</td>\n",
       "      <td>4.00000</td>\n",
       "    </tr>\n",
       "    <tr>\n",
       "      <th>25%</th>\n",
       "      <td>11835.000000</td>\n",
       "      <td>3.000000</td>\n",
       "      <td>2132.955000</td>\n",
       "      <td>44792.055000</td>\n",
       "      <td>42659.100000</td>\n",
       "      <td>4.761905e+00</td>\n",
       "      <td>2132.955000</td>\n",
       "      <td>5.50000</td>\n",
       "    </tr>\n",
       "    <tr>\n",
       "      <th>50%</th>\n",
       "      <td>19882.800000</td>\n",
       "      <td>5.000000</td>\n",
       "      <td>4351.680000</td>\n",
       "      <td>91385.280000</td>\n",
       "      <td>87033.600000</td>\n",
       "      <td>4.761905e+00</td>\n",
       "      <td>4351.680000</td>\n",
       "      <td>7.00000</td>\n",
       "    </tr>\n",
       "    <tr>\n",
       "      <th>75%</th>\n",
       "      <td>28056.600000</td>\n",
       "      <td>8.000000</td>\n",
       "      <td>8080.290000</td>\n",
       "      <td>169686.090000</td>\n",
       "      <td>161605.800000</td>\n",
       "      <td>4.761905e+00</td>\n",
       "      <td>8080.290000</td>\n",
       "      <td>8.50000</td>\n",
       "    </tr>\n",
       "    <tr>\n",
       "      <th>max</th>\n",
       "      <td>35985.600000</td>\n",
       "      <td>10.000000</td>\n",
       "      <td>17874.000000</td>\n",
       "      <td>375354.000000</td>\n",
       "      <td>357480.000000</td>\n",
       "      <td>4.761905e+00</td>\n",
       "      <td>17874.000000</td>\n",
       "      <td>10.00000</td>\n",
       "    </tr>\n",
       "  </tbody>\n",
       "</table>\n",
       "</div>"
      ],
      "text/plain": [
       "         Unit price     Quantity        Tax 5%          Total           cogs  \\\n",
       "count   1000.000000  1000.000000   1000.000000    1000.000000    1000.000000   \n",
       "mean   20041.966800     5.510000   5536.572840  116268.029640  110731.456800   \n",
       "std     9538.066205     2.923431   4215.177173   88518.720636   84303.543463   \n",
       "min     3628.800000     1.000000    183.060000    3844.260000    3661.200000   \n",
       "25%    11835.000000     3.000000   2132.955000   44792.055000   42659.100000   \n",
       "50%    19882.800000     5.000000   4351.680000   91385.280000   87033.600000   \n",
       "75%    28056.600000     8.000000   8080.290000  169686.090000  161605.800000   \n",
       "max    35985.600000    10.000000  17874.000000  375354.000000  357480.000000   \n",
       "\n",
       "       gross margin percentage  gross income      Rating  \n",
       "count             1.000000e+03   1000.000000  1000.00000  \n",
       "mean              4.761905e+00   5536.572840     6.97270  \n",
       "std               6.131498e-14   4215.177173     1.71858  \n",
       "min               4.761905e+00    183.060000     4.00000  \n",
       "25%               4.761905e+00   2132.955000     5.50000  \n",
       "50%               4.761905e+00   4351.680000     7.00000  \n",
       "75%               4.761905e+00   8080.290000     8.50000  \n",
       "max               4.761905e+00  17874.000000    10.00000  "
      ]
     },
     "execution_count": 37,
     "metadata": {},
     "output_type": "execute_result"
    }
   ],
   "source": [
    "main_list.describe()"
   ]
  },
  {
   "cell_type": "code",
   "execution_count": 38,
   "metadata": {},
   "outputs": [
    {
     "data": {
      "text/html": [
       "<div>\n",
       "<style scoped>\n",
       "    .dataframe tbody tr th:only-of-type {\n",
       "        vertical-align: middle;\n",
       "    }\n",
       "\n",
       "    .dataframe tbody tr th {\n",
       "        vertical-align: top;\n",
       "    }\n",
       "\n",
       "    .dataframe thead tr th {\n",
       "        text-align: left;\n",
       "    }\n",
       "\n",
       "    .dataframe thead tr:last-of-type th {\n",
       "        text-align: right;\n",
       "    }\n",
       "</style>\n",
       "<table border=\"1\" class=\"dataframe\">\n",
       "  <thead>\n",
       "    <tr>\n",
       "      <th></th>\n",
       "      <th colspan=\"2\" halign=\"left\">Tax 5%</th>\n",
       "      <th colspan=\"3\" halign=\"left\">gross income</th>\n",
       "      <th colspan=\"3\" halign=\"left\">Unit price</th>\n",
       "    </tr>\n",
       "    <tr>\n",
       "      <th></th>\n",
       "      <th>sum</th>\n",
       "      <th>mean</th>\n",
       "      <th>mean</th>\n",
       "      <th>max</th>\n",
       "      <th>sum</th>\n",
       "      <th>mean</th>\n",
       "      <th>max</th>\n",
       "      <th>sum</th>\n",
       "    </tr>\n",
       "    <tr>\n",
       "      <th>City</th>\n",
       "      <th></th>\n",
       "      <th></th>\n",
       "      <th></th>\n",
       "      <th></th>\n",
       "      <th></th>\n",
       "      <th></th>\n",
       "      <th></th>\n",
       "      <th></th>\n",
       "    </tr>\n",
       "  </thead>\n",
       "  <tbody>\n",
       "    <tr>\n",
       "      <th>Abuja</th>\n",
       "      <td>1820531.52</td>\n",
       "      <td>5483.528675</td>\n",
       "      <td>5483.528675</td>\n",
       "      <td>17528.4</td>\n",
       "      <td>1820531.52</td>\n",
       "      <td>20037.339759</td>\n",
       "      <td>35985.6</td>\n",
       "      <td>6652396.8</td>\n",
       "    </tr>\n",
       "    <tr>\n",
       "      <th>Lagos</th>\n",
       "      <td>1820577.78</td>\n",
       "      <td>5354.640529</td>\n",
       "      <td>5354.640529</td>\n",
       "      <td>17816.4</td>\n",
       "      <td>1820577.78</td>\n",
       "      <td>19721.107059</td>\n",
       "      <td>35938.8</td>\n",
       "      <td>6705176.4</td>\n",
       "    </tr>\n",
       "    <tr>\n",
       "      <th>Port Harcourt</th>\n",
       "      <td>1895463.54</td>\n",
       "      <td>5778.852256</td>\n",
       "      <td>5778.852256</td>\n",
       "      <td>17874.0</td>\n",
       "      <td>1895463.54</td>\n",
       "      <td>20379.248780</td>\n",
       "      <td>35985.6</td>\n",
       "      <td>6684393.6</td>\n",
       "    </tr>\n",
       "  </tbody>\n",
       "</table>\n",
       "</div>"
      ],
      "text/plain": [
       "                   Tax 5%              gross income                       \\\n",
       "                      sum         mean         mean      max         sum   \n",
       "City                                                                       \n",
       "Abuja          1820531.52  5483.528675  5483.528675  17528.4  1820531.52   \n",
       "Lagos          1820577.78  5354.640529  5354.640529  17816.4  1820577.78   \n",
       "Port Harcourt  1895463.54  5778.852256  5778.852256  17874.0  1895463.54   \n",
       "\n",
       "                 Unit price                      \n",
       "                       mean      max        sum  \n",
       "City                                             \n",
       "Abuja          20037.339759  35985.6  6652396.8  \n",
       "Lagos          19721.107059  35938.8  6705176.4  \n",
       "Port Harcourt  20379.248780  35985.6  6684393.6  "
      ]
     },
     "execution_count": 38,
     "metadata": {},
     "output_type": "execute_result"
    }
   ],
   "source": [
    "#statistical summary of specific numeric variables\n",
    "\n",
    "main_list.groupby('City').agg({'Tax 5%': ['sum', 'mean'],\n",
    "                'gross income': ['mean', 'max', 'sum'],\n",
    "                'Unit price': ['mean', 'max', 'sum']})"
   ]
  },
  {
   "cell_type": "markdown",
   "metadata": {},
   "source": [
    "**Port Harcourt City has both the highest average price per item and total gross income**"
   ]
  },
  {
   "cell_type": "markdown",
   "metadata": {},
   "source": [
    "# *Data visualization*"
   ]
  },
  {
   "cell_type": "code",
   "execution_count": 39,
   "metadata": {},
   "outputs": [
    {
     "data": {
      "text/plain": [
       "Lagos            340\n",
       "Abuja            332\n",
       "Port Harcourt    328\n",
       "Name: City, dtype: int64"
      ]
     },
     "execution_count": 39,
     "metadata": {},
     "output_type": "execute_result"
    }
   ],
   "source": [
    "main_list['City'].value_counts()"
   ]
  },
  {
   "cell_type": "code",
   "execution_count": 40,
   "metadata": {},
   "outputs": [
    {
     "data": {
      "image/png": "[encoded data removed]",
      "text/plain": [
       "<Figure size 864x360 with 1 Axes>"
      ]
     },
     "metadata": {},
     "output_type": "display_data"
    }
   ],
   "source": [
    "plt.figure(figsize= (12,5))\n",
    "sns.set(style = 'white')\n",
    "\n",
    "\n",
    "sns.countplot(x = 'Product line', \n",
    "              palette = 'Blues',\n",
    "              data = main_list,\n",
    "              order=main_list['Product line'].value_counts(ascending = True).index)\\\n",
    "                .set_title('Number of sales by Product line', size = 18, pad = 20)\n",
    "plt.ylabel(\"\")\n",
    "plt.xlabel(\"\")\n",
    "sns.despine()\n",
    "plt.tight_layout()\n",
    "plt.savefig('sales by pline', dpi = 300)\n",
    "plt.show()\n"
   ]
  },
  {
   "cell_type": "code",
   "execution_count": 41,
   "metadata": {},
   "outputs": [
    {
     "data": {
      "image/png": "[encoded data removed]",
      "text/plain": [
       "<Figure size 720x432 with 1 Axes>"
      ]
     },
     "metadata": {},
     "output_type": "display_data"
    }
   ],
   "source": [
    "plt.figure(figsize = (10,6))\n",
    "sns.set(style = 'white')\n",
    "\n",
    "sns.boxplot(x='City', \n",
    "            y= 'Rating', \n",
    "            color = 'royalblue', \n",
    "            data= main_list).set_title('Branch Ratings', size = 16, pad = 20)\n",
    "sns.despine()\n",
    "plt.tight_layout()\n",
    "plt.savefig('branch ratings', dpi = 300)\n",
    "plt.show()\n"
   ]
  },
  {
   "cell_type": "markdown",
   "metadata": {},
   "source": [
    "**Abuja alias Branch B, has the lowest average rating**"
   ]
  },
  {
   "cell_type": "code",
   "execution_count": 42,
   "metadata": {},
   "outputs": [
    {
     "data": {
      "image/png": "[encoded data removed]",
      "text/plain": [
       "<Figure size 864x432 with 1 Axes>"
      ]
     },
     "metadata": {},
     "output_type": "display_data"
    }
   ],
   "source": [
    "gen_pl_total = main_list.groupby(['Gender', 'Product line'])['Total'].sum().reset_index()\n",
    "\n",
    "plt.figure(figsize= (12,6))\n",
    "sns.set(style = 'white')\n",
    "sns.barplot(y= 'Total',\n",
    "            x = 'Product line',\n",
    "            data = gen_pl_total,\n",
    "            hue = 'Gender',\n",
    "            ci = None).set_title('Total purchases on each product line by customer gender', size = 18, pad = 20)\n",
    "sns.despine()\n",
    "plt.yticks(np.arange(2000000, 14000000, step = 2000000),\n",
    "            labels = ['2M', '4M', '6M','8M', '10M', '12M'])\n",
    "plt.ylabel('Total Purchases (N)')\n",
    "plt.xlabel(\"\")\n",
    "plt.axhline(gen_pl_total.Total.min(), ls='--', linewidth=1.5, color='black')\n",
    "plt.tight_layout()\n",
    "plt.savefig('Product line sales by customer gender', dpi = 300)\n",
    "plt.show()"
   ]
  },
  {
   "cell_type": "markdown",
   "metadata": {},
   "source": [
    "* Females generate a higher Average Total than Males, with a significantly higher Average Total on the  **Food & beverages** and **Home & lifestyle** product lines.\n",
    "\n",
    "* Males have a significantly higher Average Total on the **Health and beauty** product line."
   ]
  },
  {
   "cell_type": "code",
   "execution_count": 43,
   "metadata": {},
   "outputs": [
    {
     "data": {
      "image/png": "[encoded data removed]",
      "text/plain": [
       "<Figure size 720x360 with 1 Axes>"
      ]
     },
     "metadata": {},
     "output_type": "display_data"
    }
   ],
   "source": [
    "plt.figure(figsize = (10,5))\n",
    "sns.set(style = 'white')\n",
    "sns.countplot(x = 'Day',\n",
    "                  data = main_list,\n",
    "                  color = 'royalblue',\n",
    "                  order = ['Monday', 'Tuesday','Wednesday', 'Thursday', 'Friday', 'Saturday', 'Sunday'])\\\n",
    "                    .set_title('Average number of sales by day of week', \n",
    "                               y = 1.4, va = 'top', ha = 'center', size = 18)\n",
    "\n",
    "\n",
    "# plt.xticks(rotation = 45)\n",
    "plt.ylabel('')\n",
    "plt.xlabel('')\n",
    "\n",
    "plt.annotate('There are higher numbers of sales on \\nTuesdays and Saturdays', \n",
    "             xy = (4.6, 165),\n",
    "             xycoords = 'data', \n",
    "             xytext = (.3, 1), \n",
    "             textcoords = 'axes fraction',\n",
    "             size = 13,\n",
    "            arrowprops = dict(arrowstyle = '-|>', connectionstyle = \"arc3,rad=0.2\",\n",
    "                               color = '#000000', linewidth = .6))\n",
    "\n",
    "plt.annotate('There are higher numbers of sales on \\nTuesdays and Saturdays', \n",
    "             xy = (1, 159),\n",
    "             xycoords = 'data', \n",
    "             xytext = (.3, 1), \n",
    "             textcoords = 'axes fraction',\n",
    "             size = 13,\n",
    "             arrowprops = dict(arrowstyle = '-|>', connectionstyle = \"arc3,rad=0.2\",\n",
    "                               color = '#000000', linewidth = .6))\n",
    "\n",
    "sns.despine()\n",
    "plt.tight_layout()\n",
    "plt.savefig('sales by day of week', dpi = 300)\n",
    "plt.show()\n"
   ]
  },
  {
   "cell_type": "markdown",
   "metadata": {},
   "source": [
    "**Increased sales volumes on Tuesdays and Wednesdays**"
   ]
  },
  {
   "cell_type": "code",
   "execution_count": 44,
   "metadata": {},
   "outputs": [
    {
     "data": {
      "image/png": "[encoded data removed]",
      "text/plain": [
       "<Figure size 720x432 with 1 Axes>"
      ]
     },
     "metadata": {},
     "output_type": "display_data"
    }
   ],
   "source": [
    "dummy = main_list.query(\"Hour == 19\")\n",
    "\n",
    "plt.figure(figsize = (10,6))\n",
    "sns.set(style = 'white')\n",
    "sns.countplot('Hour', \n",
    "              data = main_list, \n",
    "              color = 'grey')\\\n",
    "                .set_title('Average number of sales by hour of day', size = 18, pad = 20)\n",
    "\n",
    "sns.countplot('Hour', \n",
    "              data = dummy, \n",
    "              color = 'royalblue')\\\n",
    "                .set_title('Average number of sales by hour of day', size = 18, pad = 20)\n",
    "plt.annotate(\"There are highers numbers of sales \\n from 7:00PM to 7:59PM each day\",\n",
    "            xy = (10, 100),\n",
    "             xycoords = 'data',\n",
    "            xytext = (9.5, 105),\n",
    "            textcoords = 'data',\n",
    "            size = 13)\n",
    "\n",
    "sns.despine()\n",
    "plt.ylabel(\"\")\n",
    "plt.tight_layout()\n",
    "plt.savefig('sales by hour', dpi = 300)\n",
    "plt.show()"
   ]
  },
  {
   "cell_type": "markdown",
   "metadata": {},
   "source": [
    "* **Fashion and Accessories** and **Sport and travel** product lines have more expensive items with **Electronic accessories** having the least expensive.\n",
    "\n",
    "\n",
    "\n",
    "* **Electronic accessories** and **Home and lifestyle** product lines have more quantities per order aongst other product lines with **Fasion accessories** having the least quantity per order.\n",
    "\n",
    "* It can also be deduced that the quantity per order varies inversely the **Unit price** of the items in the product lines."
   ]
  },
  {
   "cell_type": "code",
   "execution_count": 45,
   "metadata": {},
   "outputs": [
    {
     "data": {
      "text/html": [
       "<div>\n",
       "<style scoped>\n",
       "    .dataframe tbody tr th:only-of-type {\n",
       "        vertical-align: middle;\n",
       "    }\n",
       "\n",
       "    .dataframe tbody tr th {\n",
       "        vertical-align: top;\n",
       "    }\n",
       "\n",
       "    .dataframe thead th {\n",
       "        text-align: right;\n",
       "    }\n",
       "</style>\n",
       "<table border=\"1\" class=\"dataframe\">\n",
       "  <thead>\n",
       "    <tr style=\"text-align: right;\">\n",
       "      <th></th>\n",
       "      <th>Month</th>\n",
       "      <th>sales_count</th>\n",
       "    </tr>\n",
       "  </thead>\n",
       "  <tbody>\n",
       "    <tr>\n",
       "      <th>1</th>\n",
       "      <td>January</td>\n",
       "      <td>352</td>\n",
       "    </tr>\n",
       "    <tr>\n",
       "      <th>0</th>\n",
       "      <td>February</td>\n",
       "      <td>303</td>\n",
       "    </tr>\n",
       "    <tr>\n",
       "      <th>2</th>\n",
       "      <td>March</td>\n",
       "      <td>345</td>\n",
       "    </tr>\n",
       "  </tbody>\n",
       "</table>\n",
       "</div>"
      ],
      "text/plain": [
       "      Month  sales_count\n",
       "1   January          352\n",
       "0  February          303\n",
       "2     March          345"
      ]
     },
     "execution_count": 45,
     "metadata": {},
     "output_type": "execute_result"
    }
   ],
   "source": [
    "num_sales = main_list.groupby('Month').agg(sales_count = ('City', 'count')).reset_index()\n",
    "\n",
    "num_sales['Month'] = pd.Categorical(num_sales['Month'], categories=['January', 'February', 'March'], ordered=True)\n",
    "\n",
    "num_sales.sort_values('Month', inplace = True)\n",
    "\n",
    "num_sales"
   ]
  },
  {
   "cell_type": "code",
   "execution_count": 46,
   "metadata": {
    "scrolled": false
   },
   "outputs": [
    {
     "data": {
      "image/png": "[encoded data removed]",
      "text/plain": [
       "<Figure size 720x360 with 1 Axes>"
      ]
     },
     "metadata": {},
     "output_type": "display_data"
    }
   ],
   "source": [
    "sns.set(style = 'white')\n",
    "ax = sns.catplot(x = 'Month',\n",
    "                 y = 'sales_count',\n",
    "                 data = num_sales,\n",
    "                 kind = 'bar',\n",
    "                 color = 'royalblue',\n",
    "                aspect = 2)\n",
    "\n",
    "ax.fig.suptitle('Total number of sales per month', y = 1, va = 'top', ha = 'center', size = 18)\n",
    "\n",
    "sns.despine(left = True)\n",
    "plt.yticks(ticks = [])\n",
    "plt.ylabel(\"\")\n",
    "plt.xlabel(\"\")\n",
    "\n",
    "for i,v in enumerate(num_sales['sales_count']):\n",
    "    plt.text(i,v+3, str(v), ha = 'center', size = 14)\n",
    "    \n",
    "plt.annotate(\"February has the least \\nnumber of sales\", \n",
    "             xy = (1, 160),\n",
    "             xycoords = 'data', \n",
    "             xytext = (.6, 340), \n",
    "             textcoords = 'data',\n",
    "            size = 14)\n",
    "\n",
    "plt.tight_layout()\n",
    "plt.savefig('sales by month', dpi = 300)\n",
    "plt.show()"
   ]
  },
  {
   "cell_type": "markdown",
   "metadata": {},
   "source": [
    "**February has the least sales volume among the three months**\n"
   ]
  },
  {
   "cell_type": "code",
   "execution_count": 47,
   "metadata": {},
   "outputs": [
    {
     "data": {
      "text/html": [
       "<div>\n",
       "<style scoped>\n",
       "    .dataframe tbody tr th:only-of-type {\n",
       "        vertical-align: middle;\n",
       "    }\n",
       "\n",
       "    .dataframe tbody tr th {\n",
       "        vertical-align: top;\n",
       "    }\n",
       "\n",
       "    .dataframe thead th {\n",
       "        text-align: right;\n",
       "    }\n",
       "</style>\n",
       "<table border=\"1\" class=\"dataframe\">\n",
       "  <thead>\n",
       "    <tr style=\"text-align: right;\">\n",
       "      <th></th>\n",
       "      <th>Month</th>\n",
       "      <th>City</th>\n",
       "      <th>gross income</th>\n",
       "    </tr>\n",
       "  </thead>\n",
       "  <tbody>\n",
       "    <tr>\n",
       "      <th>3</th>\n",
       "      <td>January</td>\n",
       "      <td>Abuja</td>\n",
       "      <td>637303.86</td>\n",
       "    </tr>\n",
       "    <tr>\n",
       "      <th>4</th>\n",
       "      <td>January</td>\n",
       "      <td>Lagos</td>\n",
       "      <td>663105.06</td>\n",
       "    </tr>\n",
       "    <tr>\n",
       "      <th>5</th>\n",
       "      <td>January</td>\n",
       "      <td>Port Harcourt</td>\n",
       "      <td>693165.96</td>\n",
       "    </tr>\n",
       "    <tr>\n",
       "      <th>0</th>\n",
       "      <td>February</td>\n",
       "      <td>Abuja</td>\n",
       "      <td>590130.36</td>\n",
       "    </tr>\n",
       "    <tr>\n",
       "      <th>1</th>\n",
       "      <td>February</td>\n",
       "      <td>Lagos</td>\n",
       "      <td>511887.78</td>\n",
       "    </tr>\n",
       "    <tr>\n",
       "      <th>2</th>\n",
       "      <td>February</td>\n",
       "      <td>Port Harcourt</td>\n",
       "      <td>564599.70</td>\n",
       "    </tr>\n",
       "    <tr>\n",
       "      <th>6</th>\n",
       "      <td>March</td>\n",
       "      <td>Abuja</td>\n",
       "      <td>593097.30</td>\n",
       "    </tr>\n",
       "    <tr>\n",
       "      <th>7</th>\n",
       "      <td>March</td>\n",
       "      <td>Lagos</td>\n",
       "      <td>645584.94</td>\n",
       "    </tr>\n",
       "    <tr>\n",
       "      <th>8</th>\n",
       "      <td>March</td>\n",
       "      <td>Port Harcourt</td>\n",
       "      <td>637697.88</td>\n",
       "    </tr>\n",
       "  </tbody>\n",
       "</table>\n",
       "</div>"
      ],
      "text/plain": [
       "      Month           City  gross income\n",
       "3   January          Abuja     637303.86\n",
       "4   January          Lagos     663105.06\n",
       "5   January  Port Harcourt     693165.96\n",
       "0  February          Abuja     590130.36\n",
       "1  February          Lagos     511887.78\n",
       "2  February  Port Harcourt     564599.70\n",
       "6     March          Abuja     593097.30\n",
       "7     March          Lagos     645584.94\n",
       "8     March  Port Harcourt     637697.88"
      ]
     },
     "execution_count": 47,
     "metadata": {},
     "output_type": "execute_result"
    }
   ],
   "source": [
    "gross_in_plot = main_list.groupby(['Month', 'City'])['gross income'].sum().reset_index()\n",
    "\n",
    "gross_in_plot['Month'] = pd.Categorical(gross_in_plot['Month'], categories = ['January', 'February', 'March'], ordered = True)\n",
    "gross_in_plot.sort_values('Month', inplace = True)\n",
    "\n",
    "gross_in_plot"
   ]
  },
  {
   "cell_type": "code",
   "execution_count": 48,
   "metadata": {},
   "outputs": [
    {
     "data": {
      "text/html": [
       "<div>\n",
       "<style scoped>\n",
       "    .dataframe tbody tr th:only-of-type {\n",
       "        vertical-align: middle;\n",
       "    }\n",
       "\n",
       "    .dataframe tbody tr th {\n",
       "        vertical-align: top;\n",
       "    }\n",
       "\n",
       "    .dataframe thead th {\n",
       "        text-align: right;\n",
       "    }\n",
       "</style>\n",
       "<table border=\"1\" class=\"dataframe\">\n",
       "  <thead>\n",
       "    <tr style=\"text-align: right;\">\n",
       "      <th></th>\n",
       "      <th>Month</th>\n",
       "      <th>City</th>\n",
       "      <th>gross income</th>\n",
       "    </tr>\n",
       "  </thead>\n",
       "  <tbody>\n",
       "    <tr>\n",
       "      <th>3</th>\n",
       "      <td>January</td>\n",
       "      <td>Abuja</td>\n",
       "      <td>637303.86</td>\n",
       "    </tr>\n",
       "    <tr>\n",
       "      <th>4</th>\n",
       "      <td>January</td>\n",
       "      <td>Lagos</td>\n",
       "      <td>663105.06</td>\n",
       "    </tr>\n",
       "    <tr>\n",
       "      <th>5</th>\n",
       "      <td>January</td>\n",
       "      <td>Port Harcourt</td>\n",
       "      <td>693165.96</td>\n",
       "    </tr>\n",
       "    <tr>\n",
       "      <th>0</th>\n",
       "      <td>February</td>\n",
       "      <td>Abuja</td>\n",
       "      <td>590130.36</td>\n",
       "    </tr>\n",
       "    <tr>\n",
       "      <th>1</th>\n",
       "      <td>February</td>\n",
       "      <td>Lagos</td>\n",
       "      <td>511887.78</td>\n",
       "    </tr>\n",
       "    <tr>\n",
       "      <th>2</th>\n",
       "      <td>February</td>\n",
       "      <td>Port Harcourt</td>\n",
       "      <td>564599.70</td>\n",
       "    </tr>\n",
       "    <tr>\n",
       "      <th>6</th>\n",
       "      <td>March</td>\n",
       "      <td>Abuja</td>\n",
       "      <td>593097.30</td>\n",
       "    </tr>\n",
       "    <tr>\n",
       "      <th>7</th>\n",
       "      <td>March</td>\n",
       "      <td>Lagos</td>\n",
       "      <td>645584.94</td>\n",
       "    </tr>\n",
       "    <tr>\n",
       "      <th>8</th>\n",
       "      <td>March</td>\n",
       "      <td>Port Harcourt</td>\n",
       "      <td>637697.88</td>\n",
       "    </tr>\n",
       "  </tbody>\n",
       "</table>\n",
       "</div>"
      ],
      "text/plain": [
       "      Month           City  gross income\n",
       "3   January          Abuja     637303.86\n",
       "4   January          Lagos     663105.06\n",
       "5   January  Port Harcourt     693165.96\n",
       "0  February          Abuja     590130.36\n",
       "1  February          Lagos     511887.78\n",
       "2  February  Port Harcourt     564599.70\n",
       "6     March          Abuja     593097.30\n",
       "7     March          Lagos     645584.94\n",
       "8     March  Port Harcourt     637697.88"
      ]
     },
     "execution_count": 48,
     "metadata": {},
     "output_type": "execute_result"
    }
   ],
   "source": [
    "gross_in_plot"
   ]
  },
  {
   "cell_type": "code",
   "execution_count": 49,
   "metadata": {},
   "outputs": [
    {
     "data": {
      "image/png": "[encoded data removed]",
      "text/plain": [
       "<Figure size 720x360 with 1 Axes>"
      ]
     },
     "metadata": {},
     "output_type": "display_data"
    }
   ],
   "source": [
    "plt.figure(figsize = (10,5))\n",
    "ax = sns.lineplot(x= 'Month',\n",
    "            y = 'gross income',\n",
    "            data = gross_in_plot,\n",
    "            hue = 'City',\n",
    "            ci = None,\n",
    "            palette = 'colorblind').set_title('Gross Income per month by city', size = 18, pad = 30)\n",
    "\n",
    "plt.xlabel('')\n",
    "plt.ylabel('Gross Income (N)')\n",
    "plt.legend(loc = 'best')\n",
    "sns.despine()\n",
    "plt.savefig('gross income per month', dpi = 300)\n",
    "plt.show()"
   ]
  },
  {
   "cell_type": "markdown",
   "metadata": {},
   "source": [
    "**Port Harcourt is the best perfomer in terms of gross income for the entire time period**"
   ]
  },
  {
   "cell_type": "code",
   "execution_count": 50,
   "metadata": {},
   "outputs": [
    {
     "data": {
      "text/html": [
       "<div>\n",
       "<style scoped>\n",
       "    .dataframe tbody tr th:only-of-type {\n",
       "        vertical-align: middle;\n",
       "    }\n",
       "\n",
       "    .dataframe tbody tr th {\n",
       "        vertical-align: top;\n",
       "    }\n",
       "\n",
       "    .dataframe thead th {\n",
       "        text-align: right;\n",
       "    }\n",
       "</style>\n",
       "<table border=\"1\" class=\"dataframe\">\n",
       "  <thead>\n",
       "    <tr style=\"text-align: right;\">\n",
       "      <th></th>\n",
       "      <th>Product line</th>\n",
       "      <th>Total</th>\n",
       "    </tr>\n",
       "  </thead>\n",
       "  <tbody>\n",
       "    <tr>\n",
       "      <th>0</th>\n",
       "      <td>Health and beauty</td>\n",
       "      <td>17709746.04</td>\n",
       "    </tr>\n",
       "    <tr>\n",
       "      <th>1</th>\n",
       "      <td>Home and lifestyle</td>\n",
       "      <td>19390288.68</td>\n",
       "    </tr>\n",
       "    <tr>\n",
       "      <th>2</th>\n",
       "      <td>Fashion accessories</td>\n",
       "      <td>19550122.20</td>\n",
       "    </tr>\n",
       "    <tr>\n",
       "      <th>3</th>\n",
       "      <td>Electronic accessories</td>\n",
       "      <td>19561511.34</td>\n",
       "    </tr>\n",
       "    <tr>\n",
       "      <th>4</th>\n",
       "      <td>Sports and travel</td>\n",
       "      <td>19844217.54</td>\n",
       "    </tr>\n",
       "    <tr>\n",
       "      <th>5</th>\n",
       "      <td>Food and beverages</td>\n",
       "      <td>20212143.84</td>\n",
       "    </tr>\n",
       "  </tbody>\n",
       "</table>\n",
       "</div>"
      ],
      "text/plain": [
       "             Product line        Total\n",
       "0       Health and beauty  17709746.04\n",
       "1      Home and lifestyle  19390288.68\n",
       "2     Fashion accessories  19550122.20\n",
       "3  Electronic accessories  19561511.34\n",
       "4       Sports and travel  19844217.54\n",
       "5      Food and beverages  20212143.84"
      ]
     },
     "execution_count": 50,
     "metadata": {},
     "output_type": "execute_result"
    }
   ],
   "source": [
    "#total sales by product line \n",
    "pl_total = main_list.groupby(['Product line'])['Total'].sum()\\\n",
    "            .reset_index().sort_values('Total', ignore_index = True)\n",
    "pl_total"
   ]
  },
  {
   "cell_type": "code",
   "execution_count": 51,
   "metadata": {
    "scrolled": false
   },
   "outputs": [
    {
     "data": {
      "image/png": "[encoded data removed]",
      "text/plain": [
       "<Figure size 864x432 with 1 Axes>"
      ]
     },
     "metadata": {},
     "output_type": "display_data"
    }
   ],
   "source": [
    "#plots the total sales by product line\n",
    "plt.figure(figsize= (12,6))\n",
    "sns.set(style = 'white')\n",
    "sns.barplot(y= 'Total',\n",
    "            x = 'Product line',\n",
    "            palette = 'Blues',\n",
    "            order = pl_total['Product line'],\n",
    "            data = pl_total,\n",
    "            ci = None).set_title('Total sales by product line', size = 18, pad = 20)\n",
    "sns.despine()\n",
    "plt.yticks(np.arange(2500000, 22500000, step = 2500000),\n",
    "            labels = ['2.5M', '5.0M', '7.5M','10.0M', '12.5M', '15.0M', '17.5M', '20.0M'])\n",
    "plt.ylabel('Total Sales (N)')\n",
    "plt.xlabel(\"\")\n",
    "\n",
    "plt.tight_layout()\n",
    "plt.savefig('Product line total', dpi = 300)\n",
    "plt.show()"
   ]
  },
  {
   "cell_type": "markdown",
   "metadata": {},
   "source": [
    "**THe Health & Beauty product line is the only underperformer in terms of sales, compared to the other product lines**"
   ]
  },
  {
   "cell_type": "code",
   "execution_count": null,
   "metadata": {},
   "outputs": [],
   "source": []
  }
 ],
 "metadata": {
  "kernelspec": {
   "display_name": "Python 3",
   "language": "python",
   "name": "python3"
  },
  "language_info": {
   "codemirror_mode": {
    "name": "ipython",
    "version": 3
   },
   "file_extension": ".py",
   "mimetype": "text/x-python",
   "name": "python",
   "nbconvert_exporter": "python",
   "pygments_lexer": "ipython3",
   "version": "3.8.5"
  }
 },
 "nbformat": 4,
 "nbformat_minor": 4
}
